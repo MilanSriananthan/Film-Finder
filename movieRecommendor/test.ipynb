{
 "cells": [
  {
   "cell_type": "code",
   "execution_count": 4,
   "metadata": {},
   "outputs": [],
   "source": [
    "from sklearn.metrics.pairwise import cosine_similarity\n",
    "import numpy as np\n",
    "import pandas as pd"
   ]
  },
  {
   "cell_type": "code",
   "execution_count": 5,
   "metadata": {},
   "outputs": [],
   "source": [
    "column_names = [\"user_id\", \"item_id\", \"rating\", \"timestamp\"]\n",
    "dtype = {\"user_id\": int, \"item_id\": int, \"rating\": float, \"timestamp\": int}\n",
    "ratings = pd.read_csv(\"ml-32m/ratings.csv\", names=column_names, nrows=500, dtype=dtype, header=0)\n",
    "\n",
    "ratings[\"rating\"] = pd.to_numeric(ratings[\"rating\"], errors=\"coerce\")  # Converts non-numeric values to NaN\n",
    "ratings = ratings.dropna(subset=[\"rating\"])\n",
    "\n",
    "movie_columns = [\n",
    "    \"item_id\",\n",
    "    \"title\",\n",
    "    \"genres\"\n",
    "]\n",
    "df_movies = pd.read_csv(\"ml-32m/movies.csv\", names=movie_columns, encoding=\"latin-1\", header=0)\n",
    "df_movies[\"item_id\"] = df_movies[\"item_id\"].astype(int)\n",
    "movie_titles = dict(zip(df_movies[\"item_id\"], df_movies[\"title\"]))\n",
    "\n",
    "\n",
    "movie_user_matrix = ratings.pivot(index=\"item_id\", columns=\"user_id\", values=\"rating\").fillna(0)\n",
    "\n",
    "# Compute cosine similarity between movies\n",
    "movie_similarity = cosine_similarity(movie_user_matrix)\n",
    "\n",
    "# Convert to DataFrame for easier lookup\n",
    "movie_similarity_df = pd.DataFrame(movie_similarity, index=movie_user_matrix.index, columns=movie_user_matrix.index)\n",
    "movie_similarity_df.to_parquet(\"movie_similarity.parquet\", compression=\"snappy\")"
   ]
  },
  {
   "cell_type": "code",
   "execution_count": 9,
   "metadata": {},
   "outputs": [],
   "source": [
    "def recommend_movies(new_user_ratings, top_n=10):\n",
    "    \"\"\"\n",
    "    Recommend movies for a new user based on their ratings.\n",
    "    :param new_user_ratings: Dict {item_id: rating} for the new user\n",
    "    :param top_n: Number of recommendations to return\n",
    "    :return: List of recommended movie titles\n",
    "    \"\"\"\n",
    "    similar_scores = pd.Series(dtype=float)\n",
    "\n",
    "    for item_id, rating in new_user_ratings.items():\n",
    "        if item_id in movie_similarity_df.index:\n",
    "            # Multiply similarity score by the user's rating\n",
    "            similar_movies = movie_similarity_df[item_id] * rating\n",
    "            similar_movies = similar_movies.sort_values(ascending=False)\n",
    "\n",
    "            # Accumulate scores\n",
    "            similar_scores = similar_scores.add(similar_movies, fill_value=0)\n",
    "\n",
    "    # Remove already seen movies\n",
    "    similar_scores = similar_scores.drop(index=new_user_ratings.keys(), errors=\"ignore\")\n",
    "\n",
    "    # Get top N recommended movie IDs\n",
    "    recommended_movie_ids = similar_scores.sort_values(ascending=False).head(top_n).index.tolist()\n",
    "\n",
    "    # Convert item IDs to movie titles\n",
    "    recommended_movies = [movie_titles.get(movie_id, f\"Movie {movie_id}\") for movie_id in recommended_movie_ids]\n",
    "\n",
    "    return recommended_movies\n"
   ]
  },
  {
   "cell_type": "code",
   "execution_count": 11,
   "metadata": {},
   "outputs": [
    {
     "name": "stdout",
     "output_type": "stream",
     "text": [
      "Recommended Movies: ['Lion King, The (1994)', 'Jurassic Park (1993)', 'Aladdin (1992)', 'Mask, The (1994)', 'Mrs. Doubtfire (1993)', 'Forrest Gump (1994)', 'Beauty and the Beast (1991)', 'Fugitive, The (1993)', 'Speed (1994)', 'Batman (1989)']\n"
     ]
    }
   ],
   "source": [
    "# Example: New user rates these movies\n",
    "new_user_ratings = {\n",
    "    1: 5.0,  # User loves movie ID 1\n",
    "    2: 5.0,  # User likes movie ID 10\n",
    "    34: 5   # User is neutral about movie ID 50\n",
    "}\n",
    "\n",
    "recommended_movies = recommend_movies(new_user_ratings)\n",
    "print(\"Recommended Movies:\", recommended_movies)\n"
   ]
  }
 ],
 "metadata": {
  "kernelspec": {
   "display_name": "env",
   "language": "python",
   "name": "python3"
  },
  "language_info": {
   "codemirror_mode": {
    "name": "ipython",
    "version": 3
   },
   "file_extension": ".py",
   "mimetype": "text/x-python",
   "name": "python",
   "nbconvert_exporter": "python",
   "pygments_lexer": "ipython3",
   "version": "3.11.2"
  }
 },
 "nbformat": 4,
 "nbformat_minor": 2
}
