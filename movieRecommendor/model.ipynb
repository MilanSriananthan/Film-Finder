{
 "cells": [
  {
   "cell_type": "code",
   "execution_count": 1,
   "metadata": {
    "vscode": {
     "languageId": "powershell"
    }
   },
   "outputs": [],
   "source": [
    "import pandas as pd\n",
    "from surprise import Dataset, Reader\n",
    "from surprise.model_selection import train_test_split\n",
    "from surprise import SVD\n",
    "from surprise import accuracy"
   ]
  },
  {
   "cell_type": "code",
   "execution_count": 62,
   "metadata": {
    "vscode": {
     "languageId": "powershell"
    }
   },
   "outputs": [],
   "source": [
    "ids = pd.read_csv(\"ml-32m/links.csv\")"
   ]
  },
  {
   "cell_type": "code",
   "execution_count": null,
   "metadata": {
    "vscode": {
     "languageId": "powershell"
    }
   },
   "outputs": [
    {
     "name": "stdout",
     "output_type": "stream",
     "text": [
      "       movieId    imdbId     tmdbId\n",
      "0            1    114709      862.0\n",
      "1            2    113497     8844.0\n",
      "2            3    113228    15602.0\n",
      "3            4    114885    31357.0\n",
      "4            5    113041    11862.0\n",
      "...        ...       ...        ...\n",
      "87580   292731  26812510  1032473.0\n",
      "87581   292737  14907358   986674.0\n",
      "87582   292753  12388280   948139.0\n",
      "87583   292755     64027   182776.0\n",
      "87584   292757  28995566  1174725.0\n",
      "\n",
      "[87585 rows x 3 columns]\n",
      "movieId      0\n",
      "imdbId       0\n",
      "tmdbId     124\n",
      "dtype: int64\n"
     ]
    }
   ],
   "source": [
    "print(ids)\n",
    "print(ids.isnull().sum())"
   ]
  },
  {
   "cell_type": "code",
   "execution_count": 66,
   "metadata": {
    "vscode": {
     "languageId": "powershell"
    }
   },
   "outputs": [],
   "source": [
    "df_cleaned = ids.dropna(subset=[\"tmdbId\"])\n",
    "\n",
    "# Save the cleaned CSV file\n",
    "output_path = \"ml-32m/links_cleaned.csv\"\n",
    "df_cleaned.to_csv(output_path, index=False)"
   ]
  },
  {
   "cell_type": "code",
   "execution_count": 67,
   "metadata": {
    "vscode": {
     "languageId": "powershell"
    }
   },
   "outputs": [
    {
     "name": "stdout",
     "output_type": "stream",
     "text": [
      "movieId      0\n",
      "imdbId       0\n",
      "tmdbId     124\n",
      "dtype: int64\n",
      "movieId    0\n",
      "imdbId     0\n",
      "tmdbId     0\n",
      "dtype: int64\n"
     ]
    }
   ],
   "source": [
    "print(ids.isnull().sum())\n",
    "print(df_cleaned.isnull().sum())"
   ]
  },
  {
   "cell_type": "code",
   "execution_count": null,
   "metadata": {
    "vscode": {
     "languageId": "powershell"
    }
   },
   "outputs": [],
   "source": [
    "column_names = [\"user_id\", \"item_id\", \"rating\", \"timestamp\"]\n",
    "dtype = {\"user_id\": int, \"item_id\": int, \"rating\": float, \"timestamp\": int}\n",
    "ratings = pd.read_csv(\"ml-32m/ratings.csv\", names=column_names, nrows=500000, dtype=dtype, header=0)\n",
    "\n",
    "ratings[\"rating\"] = pd.to_numeric(ratings[\"rating\"], errors=\"coerce\")  # Converts non-numeric values to NaN\n",
    "ratings = ratings.dropna(subset=[\"rating\"])"
   ]
  },
  {
   "cell_type": "code",
   "execution_count": 45,
   "metadata": {
    "vscode": {
     "languageId": "powershell"
    }
   },
   "outputs": [
    {
     "name": "stdout",
     "output_type": "stream",
     "text": [
      "RMSE: 0.8531\n"
     ]
    },
    {
     "data": {
      "text/plain": [
       "0.8531334767970149"
      ]
     },
     "execution_count": 45,
     "metadata": {},
     "output_type": "execute_result"
    }
   ],
   "source": [
    "\n",
    "\n",
    "movie_columns = [\n",
    "    \"item_id\",\n",
    "    \"title\",\n",
    "    \"genres\"\n",
    "]\n",
    "df_movies = pd.read_csv(\"ml-32m/movies.csv\", names=movie_columns, encoding=\"latin-1\", header=0)\n",
    "df_movies[\"item_id\"] = df_movies[\"item_id\"].astype(int)\n",
    "movie_titles = dict(zip(df_movies[\"item_id\"], df_movies[\"title\"]))\n",
    "reader = Reader(rating_scale=(1, 5))\n",
    "data = Dataset.load_from_df(ratings[[\"user_id\", \"item_id\", \"rating\"]], reader)\n",
    "\n",
    "# Split the data into training and test sets\n",
    "trainset, testset = train_test_split(data, test_size=0.2)\n",
    "\n",
    "# Use SVD (Singular Value Decomposition) algorithm\n",
    "model = SVD()\n",
    "\n",
    "# Train the model on the training set\n",
    "model.fit(trainset)\n",
    "\n",
    "# Predict ratings for the test set\n",
    "predictions = model.test(testset)\n",
    "\n",
    "# Compute and print the accuracy\n",
    "accuracy.rmse(predictions)"
   ]
  },
  {
   "cell_type": "code",
   "execution_count": 46,
   "metadata": {
    "vscode": {
     "languageId": "powershell"
    }
   },
   "outputs": [
    {
     "name": "stdout",
     "output_type": "stream",
     "text": [
      "       item_id                               title  \\\n",
      "0            1                    Toy Story (1995)   \n",
      "1            2                      Jumanji (1995)   \n",
      "2            3             Grumpier Old Men (1995)   \n",
      "3            4            Waiting to Exhale (1995)   \n",
      "4            5  Father of the Bride Part II (1995)   \n",
      "...        ...                                 ...   \n",
      "87580   292731           The Monroy Affaire (2022)   \n",
      "87581   292737          Shelter in Solitude (2023)   \n",
      "87582   292753                         Orca (2023)   \n",
      "87583   292755              The Angry Breed (1968)   \n",
      "87584   292757           Race to the Summit (2023)   \n",
      "\n",
      "                                            genres  \n",
      "0      Adventure|Animation|Children|Comedy|Fantasy  \n",
      "1                       Adventure|Children|Fantasy  \n",
      "2                                   Comedy|Romance  \n",
      "3                             Comedy|Drama|Romance  \n",
      "4                                           Comedy  \n",
      "...                                            ...  \n",
      "87580                                        Drama  \n",
      "87581                                 Comedy|Drama  \n",
      "87582                                        Drama  \n",
      "87583                                        Drama  \n",
      "87584                 Action|Adventure|Documentary  \n",
      "\n",
      "[87585 rows x 3 columns]\n"
     ]
    }
   ],
   "source": [
    "print(df_movies)"
   ]
  },
  {
   "cell_type": "code",
   "execution_count": 48,
   "metadata": {
    "vscode": {
     "languageId": "powershell"
    }
   },
   "outputs": [
    {
     "name": "stdout",
     "output_type": "stream",
     "text": [
      "Terminator 2: Judgment Day (1991)\n"
     ]
    }
   ],
   "source": [
    "print(movie_titles[589])"
   ]
  },
  {
   "cell_type": "code",
   "execution_count": 55,
   "metadata": {
    "vscode": {
     "languageId": "powershell"
    }
   },
   "outputs": [],
   "source": [
    "new_user_id = max(ratings[\"user_id\"]) + 1  # Automatically assign a new user ID (if necessary)\n",
    "\n",
    "# Example preferences for the new user (you can change these based on the actual preferences)\n",
    "new_user_preferences = {\n",
    "    1: 4.0,  # Toy Story (1995)\n",
    "    2: 5.0,  # Jumanji (1995)\n",
    "    3: 3.5   # Grumpier Old Men (1995)\n",
    "}\n",
    "\n",
    "# Add these ratings to the original ratings DataFrame (this could be a temporary addition)\n",
    "new_ratings = pd.DataFrame(list(new_user_preferences.items()), columns=[\"item_id\", \"rating\"])\n",
    "new_ratings[\"user_id\"] = new_user_id\n",
    "\n",
    "# Combine with the existing ratings data\n",
    "ratings = pd.concat([ratings, new_ratings], ignore_index=True)\n",
    "\n"
   ]
  },
  {
   "cell_type": "code",
   "execution_count": 56,
   "metadata": {
    "vscode": {
     "languageId": "powershell"
    }
   },
   "outputs": [
    {
     "name": "stdout",
     "output_type": "stream",
     "text": [
      "        user_id  item_id  rating    timestamp\n",
      "0             1       17     4.0  944249077.0\n",
      "1             1       25     1.0  944250228.0\n",
      "2             1       29     2.0  943230976.0\n",
      "3             1       30     5.0  944249077.0\n",
      "4             1       32     5.0  943228858.0\n",
      "...         ...      ...     ...          ...\n",
      "500001     3239        2     5.0          NaN\n",
      "500002     3239        3     3.5          NaN\n",
      "500003     3240        1     4.0          NaN\n",
      "500004     3240        2     5.0          NaN\n",
      "500005     3240        3     3.5          NaN\n",
      "\n",
      "[500006 rows x 4 columns]\n"
     ]
    }
   ],
   "source": [
    "print(ratings)"
   ]
  },
  {
   "cell_type": "code",
   "execution_count": 60,
   "metadata": {
    "vscode": {
     "languageId": "powershell"
    }
   },
   "outputs": [
    {
     "name": "stdout",
     "output_type": "stream",
     "text": [
      "84432\n",
      "Top 5 recommendations for user 2:\n",
      "Band of Brothers (2001): Predicted Rating 4.46\n",
      "Shawshank Redemption, The (1994): Predicted Rating 4.44\n",
      "Planet Earth (2006): Predicted Rating 4.39\n",
      "Parasite (2019): Predicted Rating 4.38\n",
      "Witness for the Prosecution (1957): Predicted Rating 4.35\n",
      "Big Sleep, The (1946): Predicted Rating 4.32\n",
      "Killing Fields, The (1984): Predicted Rating 4.31\n",
      "Wild Strawberries (SmultronstÃ¤llet) (1957): Predicted Rating 4.31\n",
      "Thin Blue Line, The (1988): Predicted Rating 4.31\n",
      "Persona (1966): Predicted Rating 4.31\n",
      "Godfather, The (1972): Predicted Rating 4.31\n",
      "12 Angry Men (1957): Predicted Rating 4.30\n",
      "All About Eve (1950): Predicted Rating 4.30\n",
      "Sound of Metal (2019): Predicted Rating 4.29\n",
      "His Girl Friday (1940): Predicted Rating 4.29\n",
      "Double Indemnity (1944): Predicted Rating 4.29\n",
      "Schindler's List (1993): Predicted Rating 4.29\n",
      "Raise the Red Lantern (Da hong deng long gao gao gua) (1991): Predicted Rating 4.28\n",
      "Rear Window (1954): Predicted Rating 4.28\n",
      "Day of the Jackal, The (1973): Predicted Rating 4.27\n"
     ]
    }
   ],
   "source": [
    "# Function to recommend top N items for a given user\n",
    "def recommend(user_id, num_recommendations=20):\n",
    "    # Get a list of all item_ids\n",
    "    all_items = ratings[\"item_id\"].unique()\n",
    "    print(len(all_items))\n",
    "    # Predict ratings for all items\n",
    "    predicted_ratings = [model.predict(user_id, item_id).est for item_id in all_items]\n",
    "\n",
    "    # Create a list of item_id and their predicted ratings\n",
    "    item_ratings = list(zip(all_items, predicted_ratings))\n",
    "\n",
    "    # Sort the items by predicted ratings in descending order\n",
    "    item_ratings.sort(key=lambda x: x[1], reverse=True)\n",
    "\n",
    "    # Get the top N items\n",
    "    top_items = item_ratings[:num_recommendations]\n",
    "    # Convert item_ids to movie titles\n",
    "    top_items_with_titles = [\n",
    "        (movie_titles[item_id], rating) for item_id, rating in top_items\n",
    "    ]\n",
    "\n",
    "    # Return the top N recommended items with titles\n",
    "    return top_items_with_titles\n",
    "\n",
    "\n",
    "# Example usage: Recommend top 5 items for user with user_id 196\n",
    "user_id = 2\n",
    "recommendations = recommend(new_user_id, 20)\n",
    "print(\"Top 5 recommendations for user {}:\".format(user_id))\n",
    "for title, rating in recommendations:\n",
    "    print(f\"{title}: Predicted Rating {rating:.2f}\")"
   ]
  },
  {
   "cell_type": "code",
   "execution_count": 61,
   "metadata": {
    "vscode": {
     "languageId": "powershell"
    }
   },
   "outputs": [
    {
     "name": "stdout",
     "output_type": "stream",
     "text": [
      "[(170705, 4.460166787708317), (318, 4.439737491688534), (159817, 4.386524624073444), (202439, 4.382842156535695), (5008, 4.3532903845526585), (1284, 4.320604114898792), (1299, 4.312329842064727), (5147, 4.308010802806914), (1189, 4.307981603625407), (7327, 4.305945417160865)]\n"
     ]
    }
   ],
   "source": [
    "def predict_for_new_user(new_user_id, new_user_ratings, model, all_movies):\n",
    "    \"\"\"\n",
    "    Generate recommendations for a new user.\n",
    "\n",
    "    Parameters:\n",
    "    - new_user_id: ID of the new user (can be any integer)\n",
    "    - new_user_ratings: Dictionary {item_id: rating} of movies rated by the new user\n",
    "    - model: Trained SVD model\n",
    "    - all_movies: List of all movies in the dataset\n",
    "\n",
    "    Returns:\n",
    "    - Top 10 recommended movie IDs\n",
    "    \"\"\"\n",
    "    \n",
    "    # Create a fake testset for the model with known ratings\n",
    "    fake_testset = [(new_user_id, item_id, rating) for item_id, rating in new_user_ratings.items()]\n",
    "    \n",
    "    # Pretend this new user has watched some movies (helps calibrate predictions)\n",
    "    model.test(fake_testset)\n",
    "    \n",
    "    # Get all movies the user hasn't rated yet\n",
    "    unrated_movies = [item_id for item_id in all_movies if item_id not in new_user_ratings]\n",
    "    \n",
    "    # Predict ratings for all unrated movies\n",
    "    predicted_ratings = {\n",
    "        item_id: model.predict(new_user_id, item_id).est for item_id in unrated_movies\n",
    "    }\n",
    "    \n",
    "    # Sort movies by predicted rating and return top 10\n",
    "    recommendations = sorted(predicted_ratings.items(), key=lambda x: x[1], reverse=True)\n",
    "    return recommendations[:10]  # Return top 10 movie recommendations\n",
    "\n",
    "\n",
    "new_user_ratings = {1: 5, 50: 4, 100: 3}  # User likes movie ID 1, 50, 100\n",
    "\n",
    "# List of all movies in the dataset\n",
    "all_movies = ratings[\"item_id\"].unique()\n",
    "\n",
    "# Get recommendations\n",
    "top_movies = predict_for_new_user(99999, new_user_ratings, model, all_movies)  # 99999 is a fake user ID\n",
    "print(top_movies)"
   ]
  }
 ],
 "metadata": {
  "kernelspec": {
   "display_name": "env",
   "language": "python",
   "name": "python3"
  },
  "language_info": {
   "codemirror_mode": {
    "name": "ipython",
    "version": 3
   },
   "file_extension": ".py",
   "mimetype": "text/x-python",
   "name": "python",
   "nbconvert_exporter": "python",
   "pygments_lexer": "ipython3",
   "version": "3.11.2"
  }
 },
 "nbformat": 4,
 "nbformat_minor": 2
}
